{
  "nbformat": 4,
  "nbformat_minor": 0,
  "metadata": {
    "colab": {
      "provenance": [],
      "include_colab_link": true
    },
    "kernelspec": {
      "name": "python3",
      "display_name": "Python 3"
    },
    "language_info": {
      "name": "python"
    }
  },
  "cells": [
    {
      "cell_type": "markdown",
      "metadata": {
        "id": "view-in-github",
        "colab_type": "text"
      },
      "source": [
        "<a href=\"https://colab.research.google.com/github/williamnpking/MusicComputing/blob/main/assignments/labAssignment1.ipynb\" target=\"_parent\"><img src=\"https://colab.research.google.com/assets/colab-badge.svg\" alt=\"Open In Colab\"/></a>"
      ]
    },
    {
      "cell_type": "code",
      "execution_count": null,
      "metadata": {
        "id": "JUQi5CFCIP0k"
      },
      "outputs": [],
      "source": [
        "# 1) Start by importing the necessary libraries in the first cell of the notebook\n",
        "# numpy\n",
        "\n",
        "# matplotlib\n",
        "\n",
        "# librosa\n",
        "\n",
        "\n",
        "#import audio files\n",
        "!git clone https://github.com/jcdevaney/musicComputing2025.git"
      ]
    },
    {
      "cell_type": "code",
      "source": [
        "# 2) Create a function that inputs the name of an audio file and a sampling rate\n",
        "\n",
        "def plotAudio(file,samplingRate):\n",
        "\n",
        "  # In the function you should use librosa.load() to open the specified filename\n",
        "  # with the specified sampling rate\n",
        "\n",
        "\n",
        "  # Use variables for the x- and y-labels\n",
        "\n",
        "\n",
        "  # The function should plot the time-domain (waveform) representation of the\n",
        "  # audio signal with time in seconds on the x-axis and amplitude on the y-axis\n",
        "\n",
        "\n",
        "  # Plot the signal\n"
      ],
      "metadata": {
        "id": "L66xJtpHwLCN"
      },
      "execution_count": null,
      "outputs": []
    },
    {
      "cell_type": "code",
      "source": [
        "# 3) Run the function twice (in different cells)\n",
        "# First use ‘avm.wav’ as the filename with a sampling rate of 44100\n",
        "\n",
        "file = 'musicComputing2025/audioFiles/avm.wav'\n",
        "samplingRate=44100\n",
        "plotAudio(file,samplingRate)"
      ],
      "metadata": {
        "id": "dUpKDEPMw57F"
      },
      "execution_count": null,
      "outputs": []
    },
    {
      "cell_type": "code",
      "source": [
        "# Second use ‘avm.wav’ as the filename with a sampling rate of 441\n",
        "\n"
      ],
      "metadata": {
        "id": "PV9__PiGxCqJ"
      },
      "execution_count": null,
      "outputs": []
    }
  ]
}